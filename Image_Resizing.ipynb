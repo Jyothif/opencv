{
 "cells": [
  {
   "cell_type": "markdown",
   "id": "e496c147",
   "metadata": {},
   "source": [
    "# Image Resizing\n",
    "\n",
    "- Reading the image using **imread()**\n",
    "- image resizing with custom **width** and **height**\n",
    "- Resizing an image with a **Scaling factor**\n",
    "- image resizing with different interpolation methods\n",
    "\n"
   ]
  },
  {
   "cell_type": "code",
   "execution_count": 1,
   "id": "5eefbdab",
   "metadata": {},
   "outputs": [],
   "source": [
    "import cv2\n",
    "import numpy as np"
   ]
  },
  {
   "cell_type": "code",
   "execution_count": 2,
   "id": "59b4ab69",
   "metadata": {},
   "outputs": [],
   "source": [
    "#Read the image using imread fucntion\n",
    "image = cv2.imread(\"E:\\opencv\\oranges\\Orange.jfif\")\n",
    "cv2.imshow(\"Original Image\",image)"
   ]
  },
  {
   "cell_type": "code",
   "execution_count": 5,
   "id": "ce2b1415",
   "metadata": {},
   "outputs": [],
   "source": [
    "# Lets downscale the image using new width and Height\n",
    "down_width=300\n",
    "down_height = 200\n",
    "down_points = (down_width,down_height)\n",
    "resized_down = cv2.resize(image,down_points,interpolation=cv2.INTER_LINEAR) "
   ]
  },
  {
   "cell_type": "code",
   "execution_count": 7,
   "id": "3bcdc496",
   "metadata": {},
   "outputs": [],
   "source": [
    "# Lets upscale the image using new width and height\n",
    "up_width = 600\n",
    "up_height=400\n",
    "up_points = (up_width,up_height)\n",
    "resized_up=cv2.resize(image,up_points,interpolation= cv2.INTER_LINEAR)"
   ]
  },
  {
   "cell_type": "code",
   "execution_count": 8,
   "id": "97642dc7",
   "metadata": {},
   "outputs": [],
   "source": [
    "#Display images\n",
    "cv2.imshow(\"Resized Down by defining height and width\",resized_down)\n",
    "cv2.imshow(\"Resized up by defining height and width\",resized_up)\n",
    "cv2.waitKey()\n",
    "\n",
    "#press any key to close the windows\n",
    "cv2.destroyAllWindows()\n"
   ]
  },
  {
   "cell_type": "code",
   "execution_count": null,
   "id": "599e7713",
   "metadata": {},
   "outputs": [],
   "source": []
  }
 ],
 "metadata": {
  "kernelspec": {
   "display_name": "Python 3",
   "language": "python",
   "name": "python3"
  },
  "language_info": {
   "codemirror_mode": {
    "name": "ipython",
    "version": 3
   },
   "file_extension": ".py",
   "mimetype": "text/x-python",
   "name": "python",
   "nbconvert_exporter": "python",
   "pygments_lexer": "ipython3",
   "version": "3.8.8"
  }
 },
 "nbformat": 4,
 "nbformat_minor": 5
}
