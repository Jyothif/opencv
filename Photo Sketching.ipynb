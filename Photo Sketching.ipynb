{
 "cells": [
  {
   "cell_type": "markdown",
   "id": "95c2b555",
   "metadata": {},
   "source": [
    "# Photo Sketeching"
   ]
  },
  {
   "cell_type": "code",
   "execution_count": 1,
   "id": "f625300e",
   "metadata": {},
   "outputs": [],
   "source": [
    "#importing libraries\n",
    "import cv2\n"
   ]
  },
  {
   "cell_type": "code",
   "execution_count": 2,
   "id": "31235bf6",
   "metadata": {},
   "outputs": [],
   "source": [
    "img = cv2.imread(r\"E:\\opencv\\images\\hibiscus.jpg\")"
   ]
  },
  {
   "cell_type": "code",
   "execution_count": 3,
   "id": "0ca67ccf",
   "metadata": {},
   "outputs": [],
   "source": [
    "cv2.imshow(\"img\",img)"
   ]
  },
  {
   "cell_type": "code",
   "execution_count": 4,
   "id": "e293432e",
   "metadata": {},
   "outputs": [],
   "source": [
    "#converting into gray scale\n",
    "img_gray = cv2.cvtColor(img,cv2.COLOR_BGR2GRAY)\n",
    "cv2.imshow(\"img_gray\",img_gray)"
   ]
  },
  {
   "cell_type": "code",
   "execution_count": 5,
   "id": "88668cdc",
   "metadata": {},
   "outputs": [],
   "source": [
    "#Step 4 : inverting the image\n",
    "\n",
    "img_invert = cv2.bitwise_not(img_gray)\n",
    "cv2.imshow('image invert',img_invert)"
   ]
  },
  {
   "cell_type": "code",
   "execution_count": 6,
   "id": "4bebcaa8",
   "metadata": {},
   "outputs": [],
   "source": [
    "#step 5\n",
    "img_smoothing = cv2.GaussianBlur(img_invert,(21,21),sigmaX=0,sigmaY=0)\n",
    "cv2.imshow(\"image smoothing\",img_smoothing)"
   ]
  },
  {
   "cell_type": "code",
   "execution_count": 7,
   "id": "42f2ce8a",
   "metadata": {},
   "outputs": [],
   "source": [
    "#Obtaining the final sketech\n",
    "\n",
    "def dodgeV2(x,y):\n",
    "    return cv2.divide(x,255-y,scale=256)"
   ]
  },
  {
   "cell_type": "code",
   "execution_count": 8,
   "id": "2709e8ef",
   "metadata": {},
   "outputs": [],
   "source": [
    "final_img = dodgeV2(img_gray,img_smoothing)"
   ]
  },
  {
   "cell_type": "code",
   "execution_count": 9,
   "id": "0b4b9a1a",
   "metadata": {},
   "outputs": [],
   "source": [
    "cv2.imshow(\"final image\",final_img)"
   ]
  },
  {
   "cell_type": "code",
   "execution_count": 11,
   "id": "4b129982",
   "metadata": {},
   "outputs": [
    {
     "data": {
      "text/plain": [
       "True"
      ]
     },
     "execution_count": 11,
     "metadata": {},
     "output_type": "execute_result"
    }
   ],
   "source": [
    "#wait for a user exit\n",
    "cv2.waitKey(0)\n",
    "cv2.destroyAllWindows()\n",
    "cv2.imwrite(\"final_image.jpg\",final_img)"
   ]
  },
  {
   "cell_type": "code",
   "execution_count": null,
   "id": "f262b3ef",
   "metadata": {},
   "outputs": [],
   "source": []
  }
 ],
 "metadata": {
  "kernelspec": {
   "display_name": "Python 3",
   "language": "python",
   "name": "python3"
  },
  "language_info": {
   "codemirror_mode": {
    "name": "ipython",
    "version": 3
   },
   "file_extension": ".py",
   "mimetype": "text/x-python",
   "name": "python",
   "nbconvert_exporter": "python",
   "pygments_lexer": "ipython3",
   "version": "3.8.8"
  }
 },
 "nbformat": 4,
 "nbformat_minor": 5
}
