{
 "cells": [
  {
   "cell_type": "code",
   "execution_count": 1,
   "id": "e753ccae",
   "metadata": {},
   "outputs": [
    {
     "name": "stdout",
     "output_type": "stream",
     "text": [
      "(300, 450, 3)\n"
     ]
    }
   ],
   "source": [
    "# Import packages\n",
    "import cv2\n",
    "import numpy as np\n",
    " \n",
    "img = cv2.imread('1.jpg')\n",
    "print(img.shape) # Print image shape\n",
    "cv2.imshow(\"original\", img)\n"
   ]
  },
  {
   "cell_type": "code",
   "execution_count": 2,
   "id": "f6266d90",
   "metadata": {},
   "outputs": [],
   "source": [
    "# Cropping an image\n",
    "\n",
    "cropped_image = img[50:280, 130:330]\n",
    "\n",
    "# Display cropped image\n",
    "\n",
    "cv2.imshow(\"cropped\", cropped_image)\n",
    "\n",
    "# Save the cropped image\n",
    "cv2.imwrite(\"Cropped Image.jpg\", cropped_image)\n",
    "cv2.waitKey(0)\n",
    "cv2.destroyAllWindows()\n"
   ]
  },
  {
   "cell_type": "code",
   "execution_count": null,
   "id": "a491b5c3",
   "metadata": {},
   "outputs": [],
   "source": []
  }
 ],
 "metadata": {
  "kernelspec": {
   "display_name": "Python 3",
   "language": "python",
   "name": "python3"
  },
  "language_info": {
   "codemirror_mode": {
    "name": "ipython",
    "version": 3
   },
   "file_extension": ".py",
   "mimetype": "text/x-python",
   "name": "python",
   "nbconvert_exporter": "python",
   "pygments_lexer": "ipython3",
   "version": "3.9.5"
  }
 },
 "nbformat": 4,
 "nbformat_minor": 5
}
