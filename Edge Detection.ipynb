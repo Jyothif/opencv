{
 "cells": [
  {
   "cell_type": "markdown",
   "id": "d10a1d25",
   "metadata": {},
   "source": [
    "# Edge Detection"
   ]
  },
  {
   "cell_type": "code",
   "execution_count": 1,
   "id": "a9add4db",
   "metadata": {},
   "outputs": [],
   "source": [
    "import cv2 # importing"
   ]
  },
  {
   "cell_type": "code",
   "execution_count": 5,
   "id": "4bf2c366",
   "metadata": {},
   "outputs": [],
   "source": [
    "# Reading the image from the local dir_\n",
    "\n",
    "img =cv2.imread(\"E:\\opencv\\images\\Balloons.jpg\")"
   ]
  },
  {
   "cell_type": "code",
   "execution_count": 6,
   "id": "d23b3305",
   "metadata": {},
   "outputs": [],
   "source": [
    "#applying edge detection algorithm\n",
    "\n",
    "img = cv2.resize(img,(420,300)) # resize the image\n",
    "\n",
    "canny = cv2.Canny(img,50,150)\n",
    "\n",
    "#here first parameter is image data\n",
    "#second param is lower threshold value\n",
    "#third parma is upper threshold value\n",
    "\n",
    "#trying different values for tuning edge detection algorithm.\n",
    "\n",
    "\n",
    "#results \n",
    "cv2.imshow(\"image\",img)\n",
    "cv2.imshow('canny',canny)\n",
    "\n",
    "cv2.waitKey(0)\n",
    "cv2.destroyAllWindows()\n",
    "\n"
   ]
  }
 ],
 "metadata": {
  "kernelspec": {
   "display_name": "Python 3",
   "language": "python",
   "name": "python3"
  },
  "language_info": {
   "codemirror_mode": {
    "name": "ipython",
    "version": 3
   },
   "file_extension": ".py",
   "mimetype": "text/x-python",
   "name": "python",
   "nbconvert_exporter": "python",
   "pygments_lexer": "ipython3",
   "version": "3.8.8"
  }
 },
 "nbformat": 4,
 "nbformat_minor": 5
}
