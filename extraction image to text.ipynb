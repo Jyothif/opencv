{
 "cells": [
  {
   "cell_type": "code",
   "execution_count": 1,
   "id": "dccc0889",
   "metadata": {},
   "outputs": [],
   "source": [
    "from tkinter import *\n",
    "from tkinter import filedialog\n",
    "from PIL import ImageTk, Image\n",
    "import cv2\n",
    "import pytesseract \n",
    "\n",
    "pytesseract.pytesseract.tesseract_cmd = 'C:\\Program Files\\Tesseract-OCR\\\\tesseract.exe'\n",
    "\n",
    "root = Tk()\n",
    "root.title('Text from image project') \n",
    "\n",
    "newline= Label(root)\n",
    "uploaded_img=Label(root)\n",
    "scrollbar = Scrollbar(root)\n",
    "scrollbar.pack( side = RIGHT, fill = Y )\n",
    "\n",
    "\n",
    "def extract(path):\n",
    "    Actual_image = cv2.imread(path)\n",
    "    Sample_img = cv2.resize(Actual_image,(400,350))\n",
    "    Image_ht,Image_wd,Image_thickness = Sample_img.shape\n",
    "    Sample_img = cv2.cvtColor(Sample_img,cv2.COLOR_BGR2RGB)\n",
    "    texts = pytesseract.image_to_data(Sample_img) \n",
    "    mytext=\"\"\n",
    "    prevy=0\n",
    "    for cnt,text in enumerate(texts.splitlines()):\n",
    "        if cnt==0:\n",
    "            continue\n",
    "        text = text.split()\n",
    "        if len(text)==12:\n",
    "            x,y,w,h = int(text[6]),int(text[7]),int(text[8]),int(text[9])\n",
    "            if(len(mytext)==0):\n",
    "                prey=y\n",
    "            if(prevy-y>=10 or y-prevy>=10):\n",
    "                print(mytext)\n",
    "                Label(root,text=mytext,font=('Times',15,'bold')).pack()\n",
    "                mytext=\"\"\n",
    "            mytext = mytext + text[11]+\" \"\n",
    "            prevy=y\n",
    "    Label(root,text=mytext,font=('Times',15,'bold')).pack()\n",
    "\n",
    "def show_extract_button(path):\n",
    "    extractBtn= Button(root,text=\"Extract text\",command=lambda: extract(path),bg=\"#2f2f77\",fg=\"gray\",pady=15,padx=15,font=('Times',15,'bold'))\n",
    "    extractBtn.pack()\n",
    "\n",
    "def upload():\n",
    "    try:\n",
    "        path=filedialog.askopenfilename()\n",
    "        image=Image.open(path)\n",
    "        img=ImageTk.PhotoImage(image)\n",
    "        uploaded_img.configure(image=img)\n",
    "        uploaded_img.image=img\n",
    "        show_extract_button(path)\n",
    "    except:\n",
    "        pass  \n",
    "\n",
    "uploadbtn = Button(root,text=\"Upload an image\",command=upload,bg=\"#2f2f77\",fg=\"gray\",height=2,width=20,font=('Times',15,'bold')).pack()\n",
    "newline.configure(text='\\n')\n",
    "newline.pack()\n",
    "uploaded_img.pack()\n",
    "\n",
    "root.mainloop()"
   ]
  },
  {
   "cell_type": "code",
   "execution_count": 11,
   "id": "2f0fc564",
   "metadata": {},
   "outputs": [],
   "source": [
    "import cv2\n",
    "import pytesseract \n",
    "\n",
    "pytesseract.pytesseract.tesseract_cmd = 'C:\\Program Files\\Tesseract-OCR\\\\tesseract.exe'"
   ]
  },
  {
   "cell_type": "code",
   "execution_count": 21,
   "id": "d840f083",
   "metadata": {},
   "outputs": [],
   "source": [
    "img = cv2.imread(r'E:\\opencv\\pyquestions hackers\\captain room.png')\n",
    "cv2.imshow('example',img)\n",
    "cv2.waitKey(0)\n",
    "cv2.destroyAllWindows()"
   ]
  },
  {
   "cell_type": "code",
   "execution_count": 22,
   "id": "7988ac27",
   "metadata": {},
   "outputs": [
    {
     "name": "stdout",
     "output_type": "stream",
     "text": [
      "Mr. Anant Asankhya is the manager at the INFINITE hotel. The hotel has an infinite amount of rooms.\n",
      "\n",
      "One fine day, a finite number of tourists come to stay at the hotel.\n",
      "The tourists consist of:\n",
      "— A Captain.\n",
      "\n",
      "— An unknown group of families consisting of K members per group where K #1.\n",
      "The Captain was given a separate room, and the rest were given one room per group.\n",
      "\n",
      "Mr. Anant has an unordered list of randomly arranged room entries. The list consists of the room numbers for all of the\n",
      "\n",
      "tourists. The room numbers will appear K times per group except for the Captain's room.\n",
      "\n",
      "Mr. Anant needs you to help him find the Captain's room number.\n",
      "The total number of tourists or the total number of groups of families is not known to you.\n",
      "\n",
      "You only know the value of K and the room number list.\n",
      "Input Format\n",
      "\n",
      "The first line consists of an integer, K, the size of each group.\n",
      "\n",
      "The second line contains the unordered elements of the room number list.\n",
      "\n",
      "Constraints\n",
      "\n",
      "1< K < 1000\n",
      "Output Format\n",
      "Output the Captain's room number.\n",
      "\n",
      "Sample Input\n",
      "\f",
      "\n"
     ]
    }
   ],
   "source": [
    "text = pytesseract.image_to_string(img)\n",
    "print(text)"
   ]
  },
  {
   "cell_type": "code",
   "execution_count": null,
   "id": "c0e3ced9",
   "metadata": {},
   "outputs": [],
   "source": []
  }
 ],
 "metadata": {
  "kernelspec": {
   "display_name": "Python 3",
   "language": "python",
   "name": "python3"
  },
  "language_info": {
   "codemirror_mode": {
    "name": "ipython",
    "version": 3
   },
   "file_extension": ".py",
   "mimetype": "text/x-python",
   "name": "python",
   "nbconvert_exporter": "python",
   "pygments_lexer": "ipython3",
   "version": "3.8.8"
  }
 },
 "nbformat": 4,
 "nbformat_minor": 5
}
