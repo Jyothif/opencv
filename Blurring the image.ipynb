{
 "cells": [
  {
   "cell_type": "markdown",
   "id": "2b6ccefd",
   "metadata": {},
   "source": [
    "# Blurring and Smoothing Images"
   ]
  },
  {
   "cell_type": "markdown",
   "id": "aef588a3",
   "metadata": {},
   "source": [
    "Images are combinations of noises may have lots unexpected noises.\n",
    "\n",
    "- blur techniques is used in many image processing algorithms, with blurring can hide many unecessary details.\n",
    "\n",
    "- For example: the photo with my friends, I blur the my face because i want to hide from, or publsihing on the internet.\n",
    "\n",
    "- There are many CV algorithms to avaiable to us which will blur the images using kenrel size, there are particular kernel size to specify its like trial and error method, which fits for that specific situations.\n",
    "\n",
    "\n",
    "They are four different types of functions available for blurring:\n",
    "\n",
    "- `cv2.blur():` this fucntion takes avrage of all pixels around that filter. it used for simple and fast blurring techniques.\n",
    "\n",
    "- `cv2.GaussianBlur():` GaussianBlur() is used for filtering and removing the noised and as well reduced the reduced the detials of the image,it is used in mainly in the image preprocessing steps in machine learning and Deep learning models.\n",
    "\n",
    "- `cv2.medianBlur():`it will takes the median of the neighboring pixels. mainly useful for digital image processing in an specific conditions.,it will take care about edges of the images.\n",
    "\n",
    "- `cv2.bilateralFilter():`sharp edges are saved and weak edges are deleted.\n",
    "\n",
    "\n"
   ]
  },
  {
   "cell_type": "code",
   "execution_count": 7,
   "id": "661cbe95",
   "metadata": {},
   "outputs": [],
   "source": [
    "# code:\n",
    "\n",
    "import cv2\n",
    "\n",
    "#reading image from disk\n",
    "img = cv2.imread(r'E:\\opencv\\images\\flower.jpg')"
   ]
  },
  {
   "cell_type": "code",
   "execution_count": 8,
   "id": "a0d6e90b",
   "metadata": {},
   "outputs": [],
   "source": [
    "#resizing image\n",
    "\n",
    "img = cv2.resize(img,(300,280))"
   ]
  },
  {
   "cell_type": "code",
   "execution_count": 12,
   "id": "5a3c523a",
   "metadata": {},
   "outputs": [],
   "source": [
    "#Applying differnt blur functions\n",
    "\n",
    "img_0 = cv2.blur(img,ksize=(8,8))\n",
    "img_1 = cv2.GaussianBlur(img,(7,7),0)\n",
    "img_2 = cv2.medianBlur(img,7)\n",
    "img_3 = cv2.bilateralFilter(img,8,88,88)\n",
    "\n",
    "\n",
    "#Displaying resultant  images\n",
    "cv2.imshow('original',img)\n",
    "cv2.imshow('Blur',img_0)\n",
    "cv2.imshow('GaussianBlur',img_1)\n",
    "cv2.imshow('MedianBlur',img_2)\n",
    "cv2.imshow('bilateralFilter',img_3)\n",
    "\n",
    "\n",
    "#wait for a user exit\n",
    "cv2.waitKey(0)\n",
    "cv2.destroyAllWindows()"
   ]
  },
  {
   "cell_type": "code",
   "execution_count": null,
   "id": "018ad87a",
   "metadata": {},
   "outputs": [],
   "source": [
    "img_1 = cv2.GaussianBlur(img,(8,8),0)\n",
    "img_2 = cv2.medianBlur(img,8)\n",
    "img_3 = cv2.bilateralFilter(img,7,78,78)\n",
    "\n",
    "\n",
    "\n",
    "cv2.imshow('GaussianBlur',img_1)\n",
    "cv2.imshow('MedianBlur',img_2)\n",
    "cv2.imshow('bilateralFilter',img_3)\n",
    "\n"
   ]
  }
 ],
 "metadata": {
  "kernelspec": {
   "display_name": "Python 3",
   "language": "python",
   "name": "python3"
  },
  "language_info": {
   "codemirror_mode": {
    "name": "ipython",
    "version": 3
   },
   "file_extension": ".py",
   "mimetype": "text/x-python",
   "name": "python",
   "nbconvert_exporter": "python",
   "pygments_lexer": "ipython3",
   "version": "3.8.8"
  }
 },
 "nbformat": 4,
 "nbformat_minor": 5
}
