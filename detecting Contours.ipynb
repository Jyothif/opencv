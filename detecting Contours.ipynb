{
 "cells": [
  {
   "cell_type": "markdown",
   "id": "78553dee",
   "metadata": {},
   "source": [
    "# Detecting the contours\n",
    "\n",
    "\n",
    "- Applications of contours in computer vision\n",
    "- what are contours?\n",
    "- Steps for finding and drawing contours using opencv.\n",
    "- Finding and drawing contours using opencv\n",
    "\n",
    "\n",
    "- Applications of contours in computer vision\n",
    "\n",
    "- To detect the motion(**Motion Detection**) of a object,has numerous applications ranging from indoor and outdoor security environments, traffic control,during sport events etc.\n",
    "\n",
    "- unattended object detection:any unattended object in public places is generally considered as a suspicious object.\n",
    "\n",
    "- Background/Foreground segementation:To replace backgrounf image with another, you need to perform image foreground extraction.\n",
    "\n",
    "**what is contour?**\n",
    "- when we join all the points on the boundary of an object,we get a contour.\n",
    "1. findContours()\n",
    "2. drawContours()\n",
    "\n",
    "also has two algorithms for contour detection:\n",
    "\n",
    "1. CHAIN_APPROX_SIMPLE\n",
    "2. CHAIN_APPROX_NONE\n",
    "\n",
    "\n",
    "STEPS FOR DETECTING AND DRAWING CONTOURS IN OPENCV\n",
    "\n",
    "1. Read the image and convert the image to grayscale format\n",
    "2. Apply BInary Thresholding or canny edge detection to the grayscale image.\n",
    "3. Find the contours\n",
    "4. Draw contours on the Original RGB image."
   ]
  },
  {
   "cell_type": "code",
   "execution_count": 9,
   "id": "62ce0cac",
   "metadata": {},
   "outputs": [],
   "source": [
    "#Finding and drawing contours using opencv\n",
    "\n",
    "import cv2\n",
    "\n",
    "#read the image\n",
    "\n",
    "image = cv2.imread(r\"E:\\opencv\\images\\hibiscus.jpg\")\n",
    "\n"
   ]
  },
  {
   "cell_type": "code",
   "execution_count": 10,
   "id": "015906ef",
   "metadata": {},
   "outputs": [],
   "source": [
    "img_gray = cv2.cvtColor(image,cv2.COLOR_BGR2GRAY)"
   ]
  },
  {
   "cell_type": "code",
   "execution_count": 12,
   "id": "9f734c32",
   "metadata": {},
   "outputs": [],
   "source": [
    "#apply binary thresholding\n",
    "\n",
    "ret,thresh = cv2.threshold(img_gray,150,255,cv2.THRESH_BINARY)\n",
    "\n",
    "cv2.imshow('Binary image',thresh)\n",
    "cv2.waitKey(0)\n",
    "cv2.imwrite(\"image_thresh.jpg\",thresh)\n",
    "cv2.destroyAllWindows()\n"
   ]
  },
  {
   "cell_type": "code",
   "execution_count": 13,
   "id": "e5bdae7f",
   "metadata": {},
   "outputs": [],
   "source": [
    "#Drawing acontours using CHAIN_APPROX_NONE\n",
    "contours,hierarchy = cv2.findContours(image=thresh,mode=cv2.RETR_TREE,\n",
    "                                     method=cv2.CHAIN_APPROX_NONE)\n",
    "\n",
    "\n",
    "#DRAW contours on the original image\n",
    "image_copy = image.copy()\n",
    "cv2.drawContours(image = image_copy,\n",
    "                contours=contours,contourIdx=-1,\n",
    "                color=(0,255,0),\n",
    "                thickness=2,\n",
    "                lineType=cv2.LINE_AA)\n",
    "\n",
    "\n",
    "cv2.imshow('None approximation', image_copy)\n",
    "cv2.waitKey(0)\n",
    "cv2.imwrite('contours_none_image1.jpg',image_copy)\n",
    "\n",
    "cv2.destroyAllWindows()\n"
   ]
  },
  {
   "cell_type": "code",
   "execution_count": 16,
   "id": "10bc0287",
   "metadata": {},
   "outputs": [],
   "source": [
    "# Using Single Channel: Red, Green, or Blue\n",
    "\n",
    "import cv2\n",
    "\n",
    "# read the image\n",
    "image = cv2.imread('E:\\opencv\\images\\hibiscus.jpg')\n",
    "\n",
    "# B, G, R channel splitting\n",
    "blue, green, red = cv2.split(image)\n",
    "\n",
    "# detect contours using blue channel and without thresholding\n",
    "contours1, hierarchy1 = cv2.findContours(image=blue, mode=cv2.RETR_TREE, method=cv2.CHAIN_APPROX_NONE)\n",
    "\n",
    "# draw contours on the original image\n",
    "image_contour_blue = image.copy()\n",
    "cv2.drawContours(image=image_contour_blue, contours=contours1, contourIdx=-1, color=(0, 255, 0), thickness=2, lineType=cv2.LINE_AA)\n",
    "# see the results\n",
    "cv2.imshow('Contour detection using blue channels only', image_contour_blue)\n",
    "cv2.waitKey(0)\n",
    "cv2.imwrite('blue_channel.jpg', image_contour_blue)\n",
    "cv2.destroyAllWindows()\n",
    "\n"
   ]
  },
  {
   "cell_type": "code",
   "execution_count": 17,
   "id": "09de86aa",
   "metadata": {},
   "outputs": [],
   "source": [
    "# detect contours using green channel and without thresholding\n",
    "contours2, hierarchy2 = cv2.findContours(image=green, mode=cv2.RETR_TREE, method=cv2.CHAIN_APPROX_NONE)\n",
    "# draw contours on the original image\n",
    "image_contour_green = image.copy()\n",
    "cv2.drawContours(image=image_contour_green, contours=contours2, contourIdx=-1, color=(0, 255, 0), thickness=2, lineType=cv2.LINE_AA)\n",
    "# see the results\n",
    "cv2.imshow('Contour detection using green channels only', image_contour_green)\n",
    "cv2.waitKey(0)\n",
    "cv2.imwrite('green_channel.jpg', image_contour_green)\n",
    "cv2.destroyAllWindows()\n",
    "\n",
    "\n"
   ]
  },
  {
   "cell_type": "code",
   "execution_count": 18,
   "id": "9175cf6b",
   "metadata": {},
   "outputs": [],
   "source": [
    "# detect contours using red channel and without thresholding\n",
    "contours3, hierarchy3 = cv2.findContours(image=red, mode=cv2.RETR_TREE, method=cv2.CHAIN_APPROX_NONE)\n",
    "# draw contours on the original image\n",
    "image_contour_red = image.copy()\n",
    "cv2.drawContours(image=image_contour_red, contours=contours3, contourIdx=-1, color=(0, 255, 0), thickness=2, lineType=cv2.LINE_AA)\n",
    "# see the results\n",
    "cv2.imshow('Contour detection using red channels only', image_contour_red)\n",
    "cv2.waitKey(0)\n",
    "cv2.imwrite('red_channel.jpg', image_contour_red)\n",
    "cv2.destroyAllWindows()"
   ]
  },
  {
   "cell_type": "code",
   "execution_count": 19,
   "id": "4b5d2134",
   "metadata": {},
   "outputs": [],
   "source": [
    "#Now let's try with `cv2.CHAIN_APPROX_SIMPLE`\n",
    "# detect the contours on the binary image using cv2.ChAIN_APPROX_SIMPLE\n",
    "contours1, hierarchy1 = cv2.findContours(thresh, cv2.RETR_TREE, cv2.CHAIN_APPROX_SIMPLE)\n",
    "# draw contours on the original image for `CHAIN_APPROX_SIMPLE`\n",
    "image_copy1 = image.copy()\n",
    "cv2.drawContours(image_copy1, contours1, -1, (0, 255, 0), 2, cv2.LINE_AA)\n",
    "# see the results\n",
    "cv2.imshow('Simple approximation', image_copy1)\n",
    "cv2.waitKey(0)\n",
    "cv2.imwrite('contours_simple_image1.jpg', image_copy1)\n",
    "cv2.destroyAllWindows()"
   ]
  },
  {
   "cell_type": "markdown",
   "id": "94b7702c",
   "metadata": {},
   "source": [
    "- The drawContours() function automatically connects adjacent points, joining them even if they are not in the contours list.\n",
    "\n",
    "- There are almost no differences between the outputs of CHAIN_APPROX_NONE and CHAIN_APPROX_SIMPLE. \n",
    "\n",
    "- The credit goes to the drawContours() function. Although the CHAIN_APPROX_SIMPLE method typically results in fewer points, the drawContours() function automatically connects adjacent points, joining them even if they are not in the contours list.\n",
    "\n",
    "\n",
    "- So, how do we confirm that the **CHAIN_APPROX_SIMPLE** algorithm is actually working?\n",
    "\n",
    "- The most straightforward way is to loop over the contour points manually, and draw a circle on the detected contour coordinates, using OpenCV. \n",
    "- Also, we use a different image that will actually help us visualize the results of the algorithm."
   ]
  },
  {
   "cell_type": "code",
   "execution_count": 22,
   "id": "276eb063",
   "metadata": {},
   "outputs": [],
   "source": [
    "# to actually visualize the effect of `CHAIN_APPROX_SIMPLE`, we need a proper image\n",
    "image1 = cv2.imread(r'E:\\opencv\\images\\dog.jpg')\n",
    "img_gray1 = cv2.cvtColor(image1, cv2.COLOR_BGR2GRAY)\n",
    "\n",
    "ret, thresh1 = cv2.threshold(img_gray1, 150, 255, cv2.THRESH_BINARY)\n",
    "contours2, hierarchy2 = cv2.findContours(thresh1, cv2.RETR_TREE,\n",
    "                                               cv2.CHAIN_APPROX_SIMPLE)\n",
    "image_copy2 = image1.copy()\n",
    "cv2.drawContours(image_copy2, contours2, -1, (0, 255, 0), 2, cv2.LINE_AA)\n",
    "cv2.imshow('SIMPLE Approximation contours', image_copy2)\n",
    "cv2.waitKey(0)\n",
    "image_copy3 = image1.copy()\n",
    "for i, contour in enumerate(contours2): # loop over one contour area\n",
    "   for j, contour_point in enumerate(contour): # loop over the points\n",
    "       # draw a circle on the current contour coordinate\n",
    "       cv2.circle(image_copy3, ((contour_point[0][0], contour_point[0][1])), 2, (0, 255, 0), 2, cv2.LINE_AA)\n",
    "# see the results\n",
    "cv2.imshow('CHAIN_APPROX_SIMPLE Point only', image_copy3)\n",
    "cv2.waitKey(0)\n",
    "cv2.imwrite('contour_point_simple.jpg', image_copy3)\n",
    "cv2.destroyAllWindows()\n"
   ]
  },
  {
   "cell_type": "code",
   "execution_count": null,
   "id": "eb53c8dd",
   "metadata": {},
   "outputs": [],
   "source": []
  }
 ],
 "metadata": {
  "kernelspec": {
   "display_name": "Python 3",
   "language": "python",
   "name": "python3"
  },
  "language_info": {
   "codemirror_mode": {
    "name": "ipython",
    "version": 3
   },
   "file_extension": ".py",
   "mimetype": "text/x-python",
   "name": "python",
   "nbconvert_exporter": "python",
   "pygments_lexer": "ipython3",
   "version": "3.8.8"
  }
 },
 "nbformat": 4,
 "nbformat_minor": 5
}
