{
 "cells": [
  {
   "cell_type": "markdown",
   "id": "39924615",
   "metadata": {},
   "source": [
    "# Reading the Image"
   ]
  },
  {
   "cell_type": "code",
   "execution_count": 1,
   "id": "8a0a65dd",
   "metadata": {},
   "outputs": [],
   "source": [
    "#import the cv2 library\n",
    "\n",
    "import cv2\n"
   ]
  },
  {
   "cell_type": "code",
   "execution_count": 2,
   "id": "51554a44",
   "metadata": {},
   "outputs": [],
   "source": [
    "#cv2.imread is used to read an image\n",
    "img_grayscale = cv2.imread(\"/images/1.jpg\",0)\n",
    "\n",
    "#function cv2.imshow os udef to dispaly an image in a window\n",
    "cv2.imshow('grayscale',img_grayscale)\n",
    "\n"
   ]
  },
  {
   "cell_type": "code",
   "execution_count": 3,
   "id": "6344bfff",
   "metadata": {},
   "outputs": [
    {
     "data": {
      "text/plain": [
       "-1"
      ]
     },
     "execution_count": 3,
     "metadata": {},
     "output_type": "execute_result"
    }
   ],
   "source": [
    "cv2.waitKey(0)"
   ]
  },
  {
   "cell_type": "code",
   "execution_count": 5,
   "id": "19792eb8",
   "metadata": {},
   "outputs": [
    {
     "data": {
      "text/plain": [
       "True"
      ]
     },
     "execution_count": 5,
     "metadata": {},
     "output_type": "execute_result"
    }
   ],
   "source": [
    "cv2.destroyAllWindows()\n",
    "cv2.imwrite('grayscale.jpg',img_grayscale)"
   ]
  },
  {
   "cell_type": "code",
   "execution_count": 13,
   "id": "07c068c5",
   "metadata": {},
   "outputs": [],
   "source": [
    "import cv2\n",
    "img_grayscale = cv2.imread('images/1.jpg',0)\n",
    "image=cv2.imread(\"images/1.jpg\",1)\n"
   ]
  },
  {
   "cell_type": "code",
   "execution_count": 14,
   "id": "b338d9ff",
   "metadata": {},
   "outputs": [],
   "source": [
    "cv2.imshow(\"grayscale image\",img_grayscale)\n",
    "cv2.imshow(\"image\",image)"
   ]
  },
  {
   "cell_type": "code",
   "execution_count": 15,
   "id": "51487cf7",
   "metadata": {},
   "outputs": [
    {
     "data": {
      "text/plain": [
       "-1"
      ]
     },
     "execution_count": 15,
     "metadata": {},
     "output_type": "execute_result"
    }
   ],
   "source": [
    "cv2.waitKey(0)"
   ]
  },
  {
   "cell_type": "markdown",
   "id": "67379e2b",
   "metadata": {},
   "source": [
    "# writing images to save directory\n",
    "\n",
    "`i get any job i want`\n",
    "\n",
    "`imwrite(filename,image)`"
   ]
  },
  {
   "cell_type": "code",
   "execution_count": 20,
   "id": "ac76c39d",
   "metadata": {},
   "outputs": [
    {
     "data": {
      "text/plain": [
       "True"
      ]
     },
     "execution_count": 20,
     "metadata": {},
     "output_type": "execute_result"
    }
   ],
   "source": [
    "cv2.imwrite(\"/images/1.jpg\",img_grayscale)"
   ]
  },
  {
   "cell_type": "markdown",
   "id": "6191a200",
   "metadata": {},
   "source": [
    "I have learned reading,writing and saving the file into the directory using imwrite,reading imread(),displaying imshow(window_name,image)\n",
    "imshow() function is designed to used along with the waitKey() and DestryAllWindows(),\n",
    "\n"
   ]
  }
 ],
 "metadata": {
  "kernelspec": {
   "display_name": "Python 3",
   "language": "python",
   "name": "python3"
  },
  "language_info": {
   "codemirror_mode": {
    "name": "ipython",
    "version": 3
   },
   "file_extension": ".py",
   "mimetype": "text/x-python",
   "name": "python",
   "nbconvert_exporter": "python",
   "pygments_lexer": "ipython3",
   "version": "3.9.5"
  }
 },
 "nbformat": 4,
 "nbformat_minor": 5
}
